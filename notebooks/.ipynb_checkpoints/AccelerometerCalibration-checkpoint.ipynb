{
 "cells": [
  {
   "cell_type": "code",
   "execution_count": 181,
   "metadata": {},
   "outputs": [],
   "source": [
    "# Python 3 implementation of an accelerometer calibration procedure based on the paper \n",
    "# \"Autocalibration of MEMS Accelerometers\" by Frosio et al.\n",
    "# This allows you to calibrate the accelerometer without having to perfectly align the \n",
    "# accelerometer to a flat surface of any kind.\n",
    "# You just have to do a bunch of measurements with the accelerometer held in various random \n",
    "# different orientations while holding it still.\n",
    "#\n",
    "# The approach is based on the fact that the magnitude of each measurement (i.e. sqrt(x^2 + y^2 + z^2)) \n",
    "# is supposed to be equal to 9.81m/s^2 (1G) when there is no linear acceleration going on. This, we can define\n",
    "# a non-linear error function, which can then be minimized by the Gauss-Newton algorithm.\n",
    "#\n",
    "# The mathematical model used is A = M(V - B), where A is the unknown calibrated acceleration, \n",
    "# while V is the measured acceleration which is skewed by unknown bias B and scale factor M.\n",
    "# An optimization procedure is used to find M and B, such that sum((|A|-9.81)^2) over all \n",
    "# samples A, is minimized.\n",
    "#\n",
    "# Note: M does not have to be a diagonal matrix. Therefore, this calibration procedure \n",
    "# also accounts for cross-talk between the accelerometer axes by estimating the \n",
    "# off-diagonal elements of M.\n"
   ]
  },
  {
   "cell_type": "code",
   "execution_count": 182,
   "metadata": {},
   "outputs": [],
   "source": [
    "import pandas as pd\n",
    "import numpy as np\n",
    "import scipy.optimize as optimize # Tested with scipy 1.5.2\n",
    "from io import StringIO"
   ]
  },
  {
   "cell_type": "code",
   "execution_count": 183,
   "metadata": {},
   "outputs": [],
   "source": [
    "# Parameters to optimize\n",
    "params = {\n",
    "            'M': np.array([[1.0, 0.0, 0.0],\n",
    "                           [0.0, 1.0, 0.0],\n",
    "                           [0.0, 0.0, 1.0]]),\n",
    "             'B': np.array([0.0, 0.0, 0.0])\n",
    "}\n",
    "\n",
    "def flatten_params(params):\n",
    "    return np.hstack([params['M'].flatten(), params['B']])\n",
    "\n",
    "def unflatten_params(param_vec):\n",
    "    M = param_vec[0:params['M'].shape[0]*params['M'].shape[1]].reshape(params['M'].shape[0], -1)\n",
    "    B = param_vec[M.shape[0]*M.shape[1]:]\n",
    "    return {'M': M, 'B': B}\n",
    "\n",
    "param_vec = flatten_params(params)"
   ]
  },
  {
   "cell_type": "code",
   "execution_count": 200,
   "metadata": {},
   "outputs": [],
   "source": [
    "gravity_vec = 9.81\n",
    "\n",
    "# Input data is supposed to be in m/s^2.\n",
    "# The data file contains three columns. The first is the header: x, y, z.\n",
    "# To capture data from an Arduino/Teensy that is connected via USB, \n",
    "# just log to Serial and pipe the output to a file.\n",
    "# If you are using PlatformIO, this is done by the the following\n",
    "# terminal command: 'pio device monitor | tee data_sample.csv'.\n",
    "# We remove lines that contain '>>>' symbols, because\n",
    "# those are used in our C++ app to output information while\n",
    "# logging data.\n",
    "with open('data_sample.csv', 'r') as infile:\n",
    "    data_lines = []\n",
    "    for line in infile:\n",
    "        if \">>>\" not in line and \"---\" not in line and len(line.strip())>0 and line.strip()[0] in \"0123456789xyz\":\n",
    "            data_lines.append(line.strip())\n",
    "    data_df = pd.read_csv(StringIO('\\n'.join(data_lines)))"
   ]
  },
  {
   "cell_type": "code",
   "execution_count": 323,
   "metadata": {},
   "outputs": [],
   "source": [
    "# Define the loss function to be minimized\n",
    "def get_unbiased_values(param_vec, sensor_vals_matrix):\n",
    "    params = unflatten_params(param_vec)\n",
    "    return (sensor_vals_matrix-params['B']).dot(params['M'])\n",
    "    \n",
    "def loss_function(param_vec, sensor_vals):\n",
    "    unbiased_values = get_unbiased_values(param_vec, sensor_vals)\n",
    "    squared_norm = np.sum(unbiased_values**2,axis=-1)\n",
    "    tmp_params = unflatten_params(param_vec)\n",
    "    M = tmp_params['M']\n",
    "    # The last part of this error is a small regularization term which takes into account the\n",
    "    # norm of the off-diagonal elements of the scaling matrix.\n",
    "    # This ensures that we try to find a solution that doesn't skew the raw measurements too much,\n",
    "    # and helps a lot when it comes to avoiding overfitting.\n",
    "    err = abs(squared_norm - gravity_vec*gravity_vec) + 0.0001*np.linalg.norm([M[0, 1], M[0, 2], M[1, 0], M[1, 2], M[2, 0], M[2, 1]])\n",
    "    return err"
   ]
  },
  {
   "cell_type": "code",
   "execution_count": 324,
   "metadata": {},
   "outputs": [],
   "source": [
    "# Minimize the sum, over all samples, of the square of the loss function\n",
    "optimized_params,cov,infodict,mesg,ier = optimize.leastsq(loss_function, param_vec, args=(data_df.values, ), full_output=True)"
   ]
  },
  {
   "cell_type": "code",
   "execution_count": 325,
   "metadata": {},
   "outputs": [
    {
     "name": "stdout",
     "output_type": "stream",
     "text": [
      "Success!\n",
      "Number of iterations: 1847\n",
      "Both actual and predicted relative reductions in the sum of squares\n",
      "  are at most 0.000000\n"
     ]
    }
   ],
   "source": [
    "if ier in [1,2,3,4]:\n",
    "    print('Success!')\n",
    "else:\n",
    "    print('Solution not found!')\n",
    "    \n",
    "print(f\"Number of iterations: {infodict['nfev']}\")\n",
    "print(mesg)"
   ]
  },
  {
   "cell_type": "code",
   "execution_count": 326,
   "metadata": {},
   "outputs": [
    {
     "name": "stdout",
     "output_type": "stream",
     "text": [
      "Calibration done!\n",
      "To calibrate your new samples, use [new_x, new_y, new_z] = M([raw_x, raw_y, raw_z]-B)\n",
      "\n",
      "M:\n",
      "[[ 1.01460156e+00 -3.21349965e-04 -2.16362646e-03]\n",
      " [ 3.53687660e-04  1.01977582e+00  4.93117438e-04]\n",
      " [-1.94690313e-03  4.65214465e-04  1.00078909e+00]]\n",
      "\n",
      "B:\n",
      "[ 0.23101185 -0.28259524  0.48637569]\n"
     ]
    }
   ],
   "source": [
    "calibration_params = unflatten_params(optimized_params)\n",
    "\n",
    "print('Calibration done!')\n",
    "print('To calibrate your new samples, use [new_x, new_y, new_z] = M([raw_x, raw_y, raw_z]-B)')\n",
    "print('')\n",
    "print('M:')\n",
    "print(calibration_params['M'])\n",
    "print('')\n",
    "print('B:')\n",
    "print(calibration_params['B'])\n"
   ]
  },
  {
   "cell_type": "code",
   "execution_count": 205,
   "metadata": {},
   "outputs": [
    {
     "name": "stdout",
     "output_type": "stream",
     "text": [
      "Calibration done!\n",
      "To calibrate your new samples, use [new_x, new_y, new_z] = M([raw_x, raw_y, raw_z]-B)\n",
      "\n",
      "M:\n",
      "[[ 0.99311322  0.20042441  0.05456498]\n",
      " [-0.19285476  0.99232427 -0.134323  ]\n",
      " [-0.08258693  0.11896741  0.99025705]]\n",
      "\n",
      "B:\n",
      "[ 0.23101177 -0.28259526  0.48637565]\n"
     ]
    }
   ],
   "source": [
    "calibration_params = unflatten_params(optimized_params)\n",
    "\n",
    "print('Calibration done!')\n",
    "print('To calibrate your new samples, use [new_x, new_y, new_z] = M([raw_x, raw_y, raw_z]-B)')\n",
    "print('')\n",
    "print('M:')\n",
    "print(calibration_params['M'])\n",
    "print('')\n",
    "print('B:')\n",
    "print(calibration_params['B'])\n"
   ]
  },
  {
   "cell_type": "code",
   "execution_count": 206,
   "metadata": {},
   "outputs": [
    {
     "name": "stdout",
     "output_type": "stream",
     "text": [
      "Before calibration:\n",
      "Sample: [ 0.14835501 -0.54077792 10.3657074 ]\n",
      "Magnitude: 10.380864117179538\n",
      "\n",
      "After calibration:\n",
      "Sample: [-0.84819947  0.90255114  9.8132476 ]\n",
      "Magnitude: 9.891100516981943\n"
     ]
    }
   ],
   "source": [
    "# Let's see what the result is on one sample\n",
    "sample = data_df.values[0]\n",
    "M = calibration_params['M']\n",
    "B = calibration_params['B']\n",
    "\n",
    "print(\"Before calibration:\")\n",
    "print(f\"Sample: {sample}\")\n",
    "print(f\"Magnitude: {np.linalg.norm(sample)}\")\n",
    "print(\"\")\n",
    "print(\"After calibration:\")\n",
    "print(f\"Sample: {(sample-B).dot(M)}\")\n",
    "print(f\"Magnitude: {np.linalg.norm((sample-B).dot(M))}\")\n"
   ]
  },
  {
   "cell_type": "code",
   "execution_count": 241,
   "metadata": {},
   "outputs": [
    {
     "name": "stdout",
     "output_type": "stream",
     "text": [
      "calibration_data.accel_offset = {0.23101177188523836, -0.28259525562818816, 0.4863756452108492};\n",
      "calibration_data.accel_scaling = {0.9931132185310036, -0.19285476390850007, -0.08258693255334316, \n",
      "                                  0.20042441378561276, 0.9923242706628427, 0.11896740889416775, \n",
      "                                  0.054564980032587425, -0.13432300442128994, 0.9902570479617};\n"
     ]
    }
   ],
   "source": [
    "# Use the following printed lines for our Arduino/Teensy C-code normalization \n",
    "# by pasting it in CalibrationEEPROM_read_write.cpp.\n",
    "\n",
    "print(\"calibration_data.accel_offset = {\", end=\"\")\n",
    "print(f\"{calibration_params['B'][0]}, {calibration_params['B'][1]}, {calibration_params['B'][2]}\", end=\"\");\n",
    "print(\"};\")\n",
    "      \n",
    "print(\"calibration_data.accel_scaling = {\", end=\"\")\n",
    "els = calibration_params['M'].T.flatten()\n",
    "for ix, el in enumerate(els):\n",
    "    print(f\"{el}\", end=\"\")\n",
    "    if ix < len(els)-1:\n",
    "        print(\", \", end=\"\")\n",
    "        if ix in [2,5]:\n",
    "            print(\"\\n                                  \", end=\"\")\n",
    "\n",
    "print(\"};\")"
   ]
  },
  {
   "cell_type": "code",
   "execution_count": null,
   "metadata": {},
   "outputs": [],
   "source": []
  }
 ],
 "metadata": {
  "kernelspec": {
   "display_name": "Python 3",
   "language": "python",
   "name": "python3"
  },
  "language_info": {
   "codemirror_mode": {
    "name": "ipython",
    "version": 3
   },
   "file_extension": ".py",
   "mimetype": "text/x-python",
   "name": "python",
   "nbconvert_exporter": "python",
   "pygments_lexer": "ipython3",
   "version": "3.7.7"
  }
 },
 "nbformat": 4,
 "nbformat_minor": 2
}
